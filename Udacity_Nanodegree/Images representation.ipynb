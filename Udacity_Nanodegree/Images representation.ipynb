import numpy as np
import matplotlib.image as mpimg # reading images
import matplotlib.pyplot as plt
import cv2 # computer vision library

%matplotlib qt

# Read image
image = mpimg.imread('waymo_car.jpg')

#print out dimension of image

print('Image Dimensions:', image.shape)

# convert to gray-scale

gray_img = cv2.cvtColor(image,cv2.COLOR_RGB2GRAY)

plt.imshow(gray_img, cmap='gray')

# print specific pixel value

x = 190
y = 345
print(gray_img[y,x])

tiny_image = np.array([[255, 0, 255, 0, 255],
                      [255, 255, 255, 255, 255],
                      [0, 255, 255, 255, 0],
                      [255, 0, 255, 0, 255],
                      [255, 255, 0, 255, 255]])
plt.matshow(tiny_image, cmap='gray')

# Read in the image
high = mpimg.imread('wa_state_highway.jpg')

plt.imshow(high)

#isolate RGB channels
r = high[:, :, 0]
g = high[:, :, 1]
b = high[:, :, 2]

#visualize individual color channel
f, (ax1, ax2, ax3) = plt.subplots(1, 3, figsize=(20,10))
ax1.set_title('R channel')
ax1.imshow(r, cmap='gray')
ax2.set_title('G channel')
ax2.imshow(g, cmap='gray')
ax3.set_title('B channel')
ax3.imshow(b, cmap='gray')

image = cv2.imread('pizza_bluescreen.jpg')

print('The type of image is: ',type(image))
print('The dimensions are: ',image.shape)

image_copy = np.copy(image)

image_copy = cv2.cvtColor(image_copy, cv2.COLOR_BGR2RGB)

plt.imshow(image_copy)

# define the lower and upper bound of color threshold

lower_blue = np.array([0,0,210])
upper_blue = np.array([50,70,255])

# Create mask
mask = cv2.inRange(image_copy,lower_blue,upper_blue)

plt.imshow(mask, cmap='gray')

# mask the image to show the pizza

masked_image = np.copy(image_copy)

masked_image[mask != 0] = [0,0,0]

plt.imshow(masked_image)

# Load the background image to use

background_img = cv2.imread('space_background.jpg')
background_img = cv2.cvtColor(background_img, cv2.COLOR_RGB2BGR)

# crop image to match object image
crop_background = background_img[:514,:816]

plt.imshow(crop_background)

# apply mask again to this 

crop_background[mask == 0] = [0,0,0]

plt.imshow(crop_background)

# now add masked_image and this background together
complete_img = crop_background + masked_image

plt.imshow(complete_img)
